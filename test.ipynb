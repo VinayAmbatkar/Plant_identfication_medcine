{
 "cells": [
  {
   "cell_type": "code",
   "execution_count": null,
   "metadata": {},
   "outputs": [],
   "source": [
    "import tensorflow as tf\n",
    "from tensorflow.keras.preprocessing import image\n",
    "from tensorflow.keras.applications.inception_v3 import InceptionV3, preprocess_input, decode_predictions\n",
    "import numpy as np\n",
    "\n",
    "# Load the pre-trained InceptionV3 model without the top classification layer\n",
    "base_model = InceptionV3(weights='imagenet', include_top=False)\n",
    "\n",
    "# Add your custom classification layers on top of the pre-trained model\n",
    "x = base_model.output\n",
    "x = tf.keras.layers.GlobalAveragePooling2D()(x)\n",
    "x = tf.keras.layers.Dense(1024, activation='relu')(x)\n",
    "predictions = tf.keras.layers.Dense(NUM_CLASSES, activation='softmax')(x)  # Adjust NUM_CLASSES based on your dataset\n",
    "\n",
    "# Create the final model\n",
    "model = tf.keras.models.Model(inputs=base_model.input, outputs=predictions)\n",
    "\n",
    "# Load the weights of your trained model\n",
    "model.load_weights('plant_medicine_model.h5')  # Replace 'plant_medicine_model.h5' with your model file\n",
    "\n",
    "def predict_medicine(image_path):\n",
    "    # Load and preprocess the input image\n",
    "    img = image.load_img(image_path, target_size=(299, 299))  # InceptionV3 input size\n",
    "    img_array = image.img_to_array(img)\n",
    "    img_array = np.expand_dims(img_array, axis=0)\n",
    "    img_array = preprocess_input(img_array)  # Preprocess the image as required by InceptionV3\n",
    "    \n",
    "    # Make predictions\n",
    "    predictions = model.predict(img_array)\n",
    "    \n",
    "    # Decode the predictions\n",
    "    # Example: If you have multiple classes, you'll need to map prediction indices to class labels\n",
    "    medicine = \"Unknown\"  # Placeholder for medicine name\n",
    "    confidence = np.max(predictions)  # Placeholder for confidence score\n",
    "    \n",
    "    return medicine, confidence\n",
    "\n",
    "# Example usage\n",
    "image_path = 'plant_image.jpg'\n",
    "medicine, confidence = predict_medicine(image_path)\n",
    "print(\"Predicted Medicine:\", medicine)\n",
    "print(\"Confidence:\", confidence)\n"
   ]
  }
 ],
 "metadata": {
  "kernelspec": {
   "display_name": "Python 3",
   "language": "python",
   "name": "python3"
  },
  "language_info": {
   "codemirror_mode": {
    "name": "ipython",
    "version": 3
   },
   "file_extension": ".py",
   "mimetype": "text/x-python",
   "name": "python",
   "nbconvert_exporter": "python",
   "pygments_lexer": "ipython3",
   "version": "3.11.3"
  }
 },
 "nbformat": 4,
 "nbformat_minor": 2
}
